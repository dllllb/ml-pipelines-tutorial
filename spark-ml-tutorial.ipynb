{
  "cells": [
    {
      "cell_type": "markdown",
      "metadata": {},
      "source": [
        "# Scikit-learn pipeline"
      ]
    },
    {
      "cell_type": "code",
      "execution_count": 4,
      "metadata": {
        "collapsed": false,
        "inputHidden": false,
        "outputHidden": false
      },
      "outputs": [
        {
          "data": {
            "text/plain": [
              "(np.float64(0.8590898923081839), np.float64(0.018875854883421084))"
            ]
          },
          "execution_count": 4,
          "metadata": {},
          "output_type": "execute_result"
        }
      ],
      "source": [
        "import pandas as pd\n",
        "import numpy as np\n",
        "from sklearn.pipeline import make_pipeline\n",
        "from sklearn.ensemble import GradientBoostingClassifier\n",
        "from sklearn.impute import SimpleImputer\n",
        "from sklearn.preprocessing import FunctionTransformer\n",
        "from sklearn.model_selection import cross_val_score\n",
        "from sklearn.feature_extraction import DictVectorizer\n",
        "\n",
        "ds = pd.read_csv('titanic.csv')\n",
        "features = ds.drop(['survived', 'alive'], axis=1)\n",
        "\n",
        "empty_space = FunctionTransformer(\n",
        "    lambda x: x.replace(r'\\s+', np.nan, regex=True), validate=False)\n",
        "df2dict = FunctionTransformer(\n",
        "    lambda x: x.to_dict(orient='records'), validate=False)\n",
        "\n",
        "pl = make_pipeline(\n",
        "    empty_space,\n",
        "    df2dict,\n",
        "    DictVectorizer(sparse=False),\n",
        "    SimpleImputer(strategy='most_frequent'),\n",
        "    GradientBoostingClassifier(\n",
        "        n_estimators=100, learning_rate=0.02, random_state=1, max_depth=3)\n",
        ")\n",
        "\n",
        "cv = cross_val_score(pl, features, ds.survived, cv=3, scoring='roc_auc')\n",
        "cv.mean(), cv.std()"
      ]
    },
    {
      "cell_type": "markdown",
      "metadata": {},
      "source": [
        "# Spark ML GBT pipeline"
      ]
    },
    {
      "cell_type": "code",
      "execution_count": 5,
      "metadata": {
        "slideshow": {
          "slide_type": "-"
        }
      },
      "outputs": [
        {
          "name": "stderr",
          "output_type": "stream",
          "text": [
            "25/03/17 01:30:07 WARN Utils: Your hostname, macbook-dllllb.local resolves to a loopback address: 127.0.0.1; using 192.168.1.9 instead (on interface en0)\n",
            "25/03/17 01:30:07 WARN Utils: Set SPARK_LOCAL_IP if you need to bind to another address\n",
            "Setting default log level to \"WARN\".\n",
            "To adjust logging level use sc.setLogLevel(newLevel). For SparkR, use setLogLevel(newLevel).\n",
            "25/03/17 01:30:07 WARN NativeCodeLoader: Unable to load native-hadoop library for your platform... using builtin-java classes where applicable\n",
            "25/03/17 01:30:22 WARN InstanceBuilder: Failed to load implementation from:dev.ludovic.netlib.blas.JNIBLAS\n",
            "25/03/17 01:30:22 WARN InstanceBuilder: Failed to load implementation from:dev.ludovic.netlib.blas.VectorBLAS\n"
          ]
        },
        {
          "data": {
            "text/plain": [
              "0.7166666666666668"
            ]
          },
          "execution_count": 5,
          "metadata": {},
          "output_type": "execute_result"
        }
      ],
      "source": [
        "from pyspark.ml.classification import GBTClassifier\n",
        "from pyspark.ml.feature import VectorAssembler, StringIndexer\n",
        "from pyspark.ml.pipeline import Pipeline\n",
        "from pyspark.ml.evaluation import BinaryClassificationEvaluator\n",
        "\n",
        "from pyspark.sql import SparkSession\n",
        "ss = SparkSession.builder.getOrCreate()\n",
        "\n",
        "sdf = ss.read.csv('titanic.csv', header=True)\n",
        "\n",
        "numCols = [\n",
        "    'pclass', 'age', 'sibsp',\n",
        "    'parch', 'fare', 'alone'\n",
        "]\n",
        "\n",
        "for col in numCols:\n",
        "    sdf = sdf.withColumn(\n",
        "        col, sdf[col].astype('decimal'))\n",
        "    \n",
        "sdf = sdf.withColumn(\n",
        "    'survived', sdf['survived'].astype('int'))\n",
        "\n",
        "categoricalCols =[\n",
        "    'sex', 'embarked', 'class',\n",
        "    'deck', 'who', 'embark_town'\n",
        "]\n",
        "\n",
        "indexers = [\n",
        "    StringIndexer(\n",
        "        inputCol=col,\n",
        "        outputCol=col+'Idx',\n",
        "        handleInvalid='skip')\n",
        "    for col in categoricalCols\n",
        "]\n",
        "\n",
        "idxCols = [col+'Idx' for col in categoricalCols]\n",
        "\n",
        "assembler = VectorAssembler(\n",
        "    inputCols=idxCols + numCols,\n",
        "    outputCol=\"features\")\n",
        "\n",
        "cl = GBTClassifier(\n",
        "    labelCol=\"survived\",\n",
        "    maxIter=100, maxDepth=3, stepSize=0.02)\n",
        "\n",
        "pl = Pipeline(stages=indexers + [assembler, cl])\n",
        "\n",
        "sdf_fna = sdf.fillna(0).replace('', 'NA')\n",
        "train_df, test_df = sdf_fna.randomSplit([0.7, 0.3])\n",
        "\n",
        "m = pl.fit(train_df)\n",
        "\n",
        "predictions = m.transform(test_df)\n",
        "\n",
        "evaluator = BinaryClassificationEvaluator(\n",
        "    labelCol=\"survived\",\n",
        "    rawPredictionCol=\"prediction\",\n",
        "    metricName=\"areaUnderROC\"\n",
        ")\n",
        "\n",
        "evaluator.evaluate(predictions)"
      ]
    },
    {
      "cell_type": "markdown",
      "metadata": {},
      "source": [
        "# Spark ML LR pileline"
      ]
    },
    {
      "cell_type": "code",
      "execution_count": 6,
      "metadata": {},
      "outputs": [
        {
          "data": {
            "text/plain": [
              "0.7854651162790697"
            ]
          },
          "execution_count": 6,
          "metadata": {},
          "output_type": "execute_result"
        }
      ],
      "source": [
        "from pyspark.ml.classification import LogisticRegression\n",
        "from pyspark.ml.feature import VectorAssembler, OneHotEncoder, StringIndexer\n",
        "from pyspark.ml.pipeline import Pipeline\n",
        "from pyspark.ml.evaluation import BinaryClassificationEvaluator\n",
        "\n",
        "from pyspark.sql import SparkSession\n",
        "ss = SparkSession.builder.getOrCreate()\n",
        "\n",
        "sdf = ss.read.csv('titanic.csv', header=True)\n",
        "\n",
        "numCols = [\n",
        "    'pclass', 'age', 'sibsp',\n",
        "    'parch', 'fare', 'alone'\n",
        "]\n",
        "\n",
        "for col in numCols:\n",
        "    sdf = sdf.withColumn(\n",
        "        col, sdf[col].astype('decimal'))\n",
        "    \n",
        "sdf = sdf.withColumn(\n",
        "    'survived', sdf['survived'].astype('int'))\n",
        "\n",
        "categoricalCols =[\n",
        "    'sex', 'embarked', 'class',\n",
        "    'deck', 'who', 'embark_town'\n",
        "]\n",
        "\n",
        "indexers = [\n",
        "    StringIndexer(\n",
        "        inputCol=col,\n",
        "        outputCol=col+'Idx',\n",
        "        handleInvalid='skip')\n",
        "    for col in categoricalCols\n",
        "]\n",
        "\n",
        "encoders = [\n",
        "    OneHotEncoder(\n",
        "        inputCol=col+'Idx',\n",
        "        outputCol=col+'Bin')\n",
        "    for col in categoricalCols\n",
        "]\n",
        "\n",
        "encCols = [col+'Bin' for col in categoricalCols]\n",
        "\n",
        "assembler = VectorAssembler(\n",
        "    inputCols=encCols + numCols,\n",
        "    outputCol=\"features\")\n",
        "\n",
        "cl = LogisticRegression(labelCol=\"survived\", maxIter=10, regParam=0.1)\n",
        "\n",
        "pl = Pipeline(stages=indexers + encoders + [assembler, cl])\n",
        "\n",
        "sdf_fna = sdf.fillna(0).replace('', 'NA')\n",
        "train_df, test_df = sdf_fna.randomSplit([0.7, 0.3])\n",
        "\n",
        "m = pl.fit(train_df)\n",
        "\n",
        "predictions = m.transform(test_df)\n",
        "\n",
        "evaluator = BinaryClassificationEvaluator(\n",
        "    labelCol=\"survived\",\n",
        "    rawPredictionCol=\"prediction\",\n",
        "    metricName=\"areaUnderROC\"\n",
        ")\n",
        "\n",
        "evaluator.evaluate(predictions)"
      ]
    },
    {
      "cell_type": "markdown",
      "metadata": {},
      "source": [
        "# Logistic regression feature importace for polynomial features"
      ]
    },
    {
      "cell_type": "code",
      "execution_count": 7,
      "metadata": {
        "scrolled": true
      },
      "outputs": [
        {
          "name": "stderr",
          "output_type": "stream",
          "text": [
            "25/03/17 01:30:34 WARN SparkSession: Using an existing Spark session; only runtime SQL configurations will take effect.\n"
          ]
        },
        {
          "data": {
            "text/html": [
              "<div>\n",
              "<style scoped>\n",
              "    .dataframe tbody tr th:only-of-type {\n",
              "        vertical-align: middle;\n",
              "    }\n",
              "\n",
              "    .dataframe tbody tr th {\n",
              "        vertical-align: top;\n",
              "    }\n",
              "\n",
              "    .dataframe thead th {\n",
              "        text-align: right;\n",
              "    }\n",
              "</style>\n",
              "<table border=\"1\" class=\"dataframe\">\n",
              "  <thead>\n",
              "    <tr style=\"text-align: right;\">\n",
              "      <th></th>\n",
              "      <th>weights</th>\n",
              "      <th>importance</th>\n",
              "      <th>names</th>\n",
              "    </tr>\n",
              "  </thead>\n",
              "  <tbody>\n",
              "    <tr>\n",
              "      <th>0</th>\n",
              "      <td>0.719942</td>\n",
              "      <td>0.719942</td>\n",
              "      <td>sexIdx*1</td>\n",
              "    </tr>\n",
              "    <tr>\n",
              "      <th>1</th>\n",
              "      <td>0.719942</td>\n",
              "      <td>0.719942</td>\n",
              "      <td>sexIdx*sexIdx</td>\n",
              "    </tr>\n",
              "    <tr>\n",
              "      <th>2</th>\n",
              "      <td>-0.272012</td>\n",
              "      <td>0.272012</td>\n",
              "      <td>pclass*1</td>\n",
              "    </tr>\n",
              "    <tr>\n",
              "      <th>14</th>\n",
              "      <td>0.136841</td>\n",
              "      <td>0.136841</td>\n",
              "      <td>parch*1</td>\n",
              "    </tr>\n",
              "    <tr>\n",
              "      <th>3</th>\n",
              "      <td>0.122216</td>\n",
              "      <td>0.122216</td>\n",
              "      <td>pclass*sexIdx</td>\n",
              "    </tr>\n",
              "    <tr>\n",
              "      <th>4</th>\n",
              "      <td>-0.069104</td>\n",
              "      <td>0.069104</td>\n",
              "      <td>pclass*pclass</td>\n",
              "    </tr>\n",
              "    <tr>\n",
              "      <th>15</th>\n",
              "      <td>-0.067579</td>\n",
              "      <td>0.067579</td>\n",
              "      <td>parch*sexIdx</td>\n",
              "    </tr>\n",
              "    <tr>\n",
              "      <th>10</th>\n",
              "      <td>-0.066205</td>\n",
              "      <td>0.066205</td>\n",
              "      <td>sibsp*sexIdx</td>\n",
              "    </tr>\n",
              "    <tr>\n",
              "      <th>18</th>\n",
              "      <td>-0.041047</td>\n",
              "      <td>0.041047</td>\n",
              "      <td>parch*sibsp</td>\n",
              "    </tr>\n",
              "    <tr>\n",
              "      <th>11</th>\n",
              "      <td>-0.030314</td>\n",
              "      <td>0.030314</td>\n",
              "      <td>sibsp*pclass</td>\n",
              "    </tr>\n",
              "  </tbody>\n",
              "</table>\n",
              "</div>"
            ],
            "text/plain": [
              "     weights  importance          names\n",
              "0   0.719942    0.719942       sexIdx*1\n",
              "1   0.719942    0.719942  sexIdx*sexIdx\n",
              "2  -0.272012    0.272012       pclass*1\n",
              "14  0.136841    0.136841        parch*1\n",
              "3   0.122216    0.122216  pclass*sexIdx\n",
              "4  -0.069104    0.069104  pclass*pclass\n",
              "15 -0.067579    0.067579   parch*sexIdx\n",
              "10 -0.066205    0.066205   sibsp*sexIdx\n",
              "18 -0.041047    0.041047    parch*sibsp\n",
              "11 -0.030314    0.030314   sibsp*pclass"
            ]
          },
          "execution_count": 7,
          "metadata": {},
          "output_type": "execute_result"
        }
      ],
      "source": [
        "import numpy as np\n",
        "import pandas as pd\n",
        "from pyspark.ml.classification import LogisticRegression\n",
        "from pyspark.ml.feature import VectorAssembler, StringIndexer, PolynomialExpansion\n",
        "from pyspark.ml.pipeline import Pipeline\n",
        "\n",
        "from pyspark.sql import SparkSession\n",
        "ss = SparkSession.builder.config('spark.driver.bindAddress', '127.0.0.1').getOrCreate()\n",
        "\n",
        "sdf = ss.read.csv('titanic.csv', header=True)\n",
        "\n",
        "# only 2-category features can be used without binarization\n",
        "categoricalCols =['sex'] #,'embarked', 'class', 'deck', 'who', 'embark_town']\n",
        "\n",
        "indexers = [\n",
        "    StringIndexer(inputCol=col, outputCol=col+'Idx', handleInvalid='skip')\n",
        "    for col in categoricalCols\n",
        "]\n",
        "\n",
        "idxCols = [col+'Idx' for col in categoricalCols]\n",
        "\n",
        "numCols = ['pclass', 'age', 'sibsp', 'parch', 'fare', 'alone']\n",
        "\n",
        "for col in numCols:\n",
        "    sdf = sdf.withColumn(col, sdf[col].astype('decimal'))\n",
        "    \n",
        "sdf = sdf.withColumn('survived', sdf['survived'].astype('int'))\n",
        "\n",
        "assembler = VectorAssembler(\n",
        "    inputCols=idxCols + numCols,\n",
        "    outputCol=\"features\")\n",
        "\n",
        "pe = PolynomialExpansion(degree=2, inputCol='features', outputCol='features_p')\n",
        "\n",
        "cl = LogisticRegression(featuresCol='features_p', labelCol=\"survived\", maxIter=10, regParam=0.1)\n",
        "\n",
        "pl = Pipeline(stages=indexers + [assembler, pe, cl])\n",
        "\n",
        "m = pl.fit(sdf.fillna(0).replace('', 'NA'))\n",
        "\n",
        "import pandas as pd\n",
        "\n",
        "fnames = idxCols + numCols\n",
        "pnames = [\n",
        "    n+'*'+n2\n",
        "    for i, n in zip(range(len(fnames)), fnames)\n",
        "    for n2 in (['1']+fnames)[:i+2]]\n",
        "\n",
        "weights = m.stages[-1].coefficients.array\n",
        "\n",
        "pd.DataFrame(\n",
        "    {'weights': weights, 'importance': np.abs(weights), 'names': pnames}\n",
        ").sort_values('importance', ascending=False)[:10]"
      ]
    },
    {
      "cell_type": "markdown",
      "metadata": {},
      "source": [
        "# String Indexer output"
      ]
    },
    {
      "cell_type": "code",
      "execution_count": 8,
      "metadata": {},
      "outputs": [
        {
          "data": {
            "text/html": [
              "<div>\n",
              "<style scoped>\n",
              "    .dataframe tbody tr th:only-of-type {\n",
              "        vertical-align: middle;\n",
              "    }\n",
              "\n",
              "    .dataframe tbody tr th {\n",
              "        vertical-align: top;\n",
              "    }\n",
              "\n",
              "    .dataframe thead th {\n",
              "        text-align: right;\n",
              "    }\n",
              "</style>\n",
              "<table border=\"1\" class=\"dataframe\">\n",
              "  <thead>\n",
              "    <tr style=\"text-align: right;\">\n",
              "      <th></th>\n",
              "      <th>in</th>\n",
              "      <th>out</th>\n",
              "    </tr>\n",
              "  </thead>\n",
              "  <tbody>\n",
              "    <tr>\n",
              "      <th>0</th>\n",
              "      <td>m</td>\n",
              "      <td>0.0</td>\n",
              "    </tr>\n",
              "    <tr>\n",
              "      <th>1</th>\n",
              "      <td>m</td>\n",
              "      <td>0.0</td>\n",
              "    </tr>\n",
              "    <tr>\n",
              "      <th>2</th>\n",
              "      <td>f</td>\n",
              "      <td>1.0</td>\n",
              "    </tr>\n",
              "    <tr>\n",
              "      <th>3</th>\n",
              "      <td>f</td>\n",
              "      <td>1.0</td>\n",
              "    </tr>\n",
              "    <tr>\n",
              "      <th>4</th>\n",
              "      <td>m</td>\n",
              "      <td>0.0</td>\n",
              "    </tr>\n",
              "  </tbody>\n",
              "</table>\n",
              "</div>"
            ],
            "text/plain": [
              "  in  out\n",
              "0  m  0.0\n",
              "1  m  0.0\n",
              "2  f  1.0\n",
              "3  f  1.0\n",
              "4  m  0.0"
            ]
          },
          "execution_count": 8,
          "metadata": {},
          "output_type": "execute_result"
        }
      ],
      "source": [
        "from pyspark.ml.feature import StringIndexer\n",
        "import numpy as np\n",
        "from pyspark.ml.linalg import Vectors\n",
        "\n",
        "from pyspark.sql import SparkSession\n",
        "ss = SparkSession.builder.getOrCreate()\n",
        "\n",
        "si = StringIndexer(inputCol='in', outputCol='out')\n",
        "\n",
        "rows = [\n",
        "    {'in': 'm'},\n",
        "    {'in': 'm'},\n",
        "    {'in': 'f'},\n",
        "    {'in': 'f'},\n",
        "    {'in': 'm'},\n",
        "]\n",
        "\n",
        "df = ss.createDataFrame(rows)\n",
        "\n",
        "si.fit(df).transform(df).toPandas()"
      ]
    },
    {
      "cell_type": "markdown",
      "metadata": {},
      "source": [
        "# Polynomial features order"
      ]
    },
    {
      "cell_type": "code",
      "execution_count": 9,
      "metadata": {},
      "outputs": [
        {
          "data": {
            "text/plain": [
              "array([  2.,   4.,  10.,  20., 100.,  20.,  40., 200., 400.])"
            ]
          },
          "execution_count": 9,
          "metadata": {},
          "output_type": "execute_result"
        }
      ],
      "source": [
        "from pyspark.ml.feature import PolynomialExpansion\n",
        "import numpy as np\n",
        "from pyspark.ml.linalg import Vectors\n",
        "\n",
        "from pyspark.sql import SparkSession\n",
        "ss = SparkSession.builder.getOrCreate()\n",
        "\n",
        "pe = PolynomialExpansion(degree=2, inputCol='in', outputCol='out')\n",
        "\n",
        "rows = [\n",
        "    {'in': Vectors.dense([2, 10, 20])},\n",
        "]\n",
        "\n",
        "df = ss.createDataFrame(rows)\n",
        "\n",
        "pe.transform(df).collect()[0].out.toArray()"
      ]
    },
    {
      "cell_type": "code",
      "execution_count": null,
      "metadata": {
        "collapsed": true
      },
      "outputs": [],
      "source": []
    }
  ],
  "metadata": {
    "kernel_info": {
      "name": "python3"
    },
    "kernelspec": {
      "display_name": ".venv",
      "language": "python",
      "name": "python3"
    },
    "language_info": {
      "codemirror_mode": {
        "name": "ipython",
        "version": 3
      },
      "file_extension": ".py",
      "mimetype": "text/x-python",
      "name": "python",
      "nbconvert_exporter": "python",
      "pygments_lexer": "ipython3",
      "version": "3.10.0"
    },
    "nteract": {
      "version": "0.14.5"
    }
  },
  "nbformat": 4,
  "nbformat_minor": 1
}
