{
  "cells": [
    {
      "cell_type": "markdown",
      "source": [
        "# Scikit-learn pipeline"
      ],
      "metadata": {}
    },
    {
      "cell_type": "code",
      "source": [
        "import pandas as pd\n",
        "import numpy as np\n",
        "from sklearn.pipeline import Pipeline\n",
        "from sklearn.ensemble import GradientBoostingRegressor\n",
        "from sklearn.preprocessing import Imputer\n",
        "from sklearn.preprocessing import FunctionTransformer\n",
        "from sklearn.model_selection import cross_val_score\n",
        "from sklearn.feature_extraction import DictVectorizer\n",
        "\n",
        "ds = pd.read_csv('titanic.csv')\n",
        "features = ds.drop(['survived', 'alive'], axis=1)\n",
        "\n",
        "empty_space = FunctionTransformer(\n",
        "    lambda x: x.replace(r'\\s+', np.nan, regex=True), validate=False)\n",
        "df2dict = FunctionTransformer(\n",
        "    lambda x: x.to_dict(orient='records'), validate=False)\n",
        "\n",
        "pl = Pipeline([\n",
        "    ('empty_space', empty_space),\n",
        "    ('to_dict', df2dict),\n",
        "    ('dv', DictVectorizer(sparse=False)),\n",
        "    ('na', Imputer(strategy='most_frequent')),\n",
        "    ('gbt', GradientBoostingRegressor(\n",
        "        n_estimators=100, learning_rate=0.02, random_state=1, max_depth=3))\n",
        "])\n",
        "\n",
        "cv = cross_val_score(pl, features, ds.survived, cv=3, scoring='roc_auc')\n",
        "cv.mean(), cv.std()"
      ],
      "outputs": [
        {
          "output_type": "stream",
          "name": "stderr",
          "text": [
            "/anaconda3/lib/python3.6/importlib/_bootstrap.py:219: RuntimeWarning: numpy.ufunc size changed, may indicate binary incompatibility. Expected 192 from C header, got 216 from PyObject\n",
            "  return f(*args, **kwds)\n"
          ]
        },
        {
          "output_type": "execute_result",
          "execution_count": 2,
          "data": {
            "text/plain": [
              "(0.8579350362126407, 0.019895577141853242)"
            ]
          },
          "metadata": {}
        }
      ],
      "execution_count": 2,
      "metadata": {
        "collapsed": false,
        "outputHidden": false,
        "inputHidden": false
      }
    },
    {
      "cell_type": "markdown",
      "source": [
        "# Spark ML GBT pipeline"
      ],
      "metadata": {}
    },
    {
      "cell_type": "code",
      "source": [
        "from pyspark.ml.classification import GBTClassifier\n",
        "from pyspark.ml.feature import VectorAssembler, StringIndexer\n",
        "from pyspark.ml.pipeline import Pipeline\n",
        "from pyspark.ml.evaluation import BinaryClassificationEvaluator\n",
        "\n",
        "from pyspark.sql import SparkSession\n",
        "ss = SparkSession.builder.getOrCreate()\n",
        "\n",
        "sdf = ss.read.csv('titanic.csv', header=True)\n",
        "\n",
        "numCols = [\n",
        "    'pclass', 'age', 'sibsp',\n",
        "    'parch', 'fare', 'alone'\n",
        "]\n",
        "\n",
        "for col in numCols:\n",
        "    sdf = sdf.withColumn(\n",
        "        col, sdf[col].astype('decimal'))\n",
        "    \n",
        "sdf = sdf.withColumn(\n",
        "    'survived', sdf['survived'].astype('int'))\n",
        "\n",
        "categoricalCols =[\n",
        "    'sex', 'embarked', 'class',\n",
        "    'deck', 'who', 'embark_town'\n",
        "]\n",
        "\n",
        "indexers = [\n",
        "    StringIndexer(\n",
        "        inputCol=col,\n",
        "        outputCol=col+'Idx',\n",
        "        handleInvalid='skip')\n",
        "    for col in categoricalCols\n",
        "]\n",
        "\n",
        "idxCols = [col+'Idx' for col in categoricalCols]\n",
        "\n",
        "assembler = VectorAssembler(\n",
        "    inputCols=idxCols + numCols,\n",
        "    outputCol=\"features\")\n",
        "\n",
        "cl = GBTClassifier(\n",
        "    labelCol=\"survived\",\n",
        "    maxIter=100, maxDepth=3, stepSize=0.02)\n",
        "\n",
        "pl = Pipeline(stages=indexers + [assembler, cl])\n",
        "\n",
        "sdf_fna = sdf.fillna(0).replace('', 'NA')\n",
        "train_df, test_df = sdf_fna.randomSplit([0.7, 0.3])\n",
        "\n",
        "m = pl.fit(train_df)\n",
        "\n",
        "predictions = m.transform(test_df)\n",
        "\n",
        "evaluator = BinaryClassificationEvaluator(\n",
        "    labelCol=\"survived\",\n",
        "    rawPredictionCol=\"prediction\",\n",
        "    metricName=\"areaUnderROC\"\n",
        ")\n",
        "\n",
        "evaluator.evaluate(predictions)"
      ],
      "outputs": [
        {
          "output_type": "execute_result",
          "execution_count": 7,
          "data": {
            "text/plain": [
              "0.7666914143288964"
            ]
          },
          "metadata": {}
        }
      ],
      "execution_count": 7,
      "metadata": {
        "slideshow": {
          "slide_type": "-"
        }
      }
    },
    {
      "cell_type": "markdown",
      "source": [
        "# Spark ML LR pileline"
      ],
      "metadata": {}
    },
    {
      "cell_type": "code",
      "source": [
        "from pyspark.ml.classification import LogisticRegression\n",
        "from pyspark.ml.feature import VectorAssembler, OneHotEncoder, StringIndexer\n",
        "from pyspark.ml.pipeline import Pipeline\n",
        "from pyspark.ml.evaluation import BinaryClassificationEvaluator\n",
        "\n",
        "from pyspark.sql import SparkSession\n",
        "ss = SparkSession.builder.getOrCreate()\n",
        "\n",
        "sdf = ss.read.csv('titanic.csv', header=True)\n",
        "\n",
        "numCols = [\n",
        "    'pclass', 'age', 'sibsp',\n",
        "    'parch', 'fare', 'alone'\n",
        "]\n",
        "\n",
        "for col in numCols:\n",
        "    sdf = sdf.withColumn(\n",
        "        col, sdf[col].astype('decimal'))\n",
        "    \n",
        "sdf = sdf.withColumn(\n",
        "    'survived', sdf['survived'].astype('int'))\n",
        "\n",
        "categoricalCols =[\n",
        "    'sex', 'embarked', 'class',\n",
        "    'deck', 'who', 'embark_town'\n",
        "]\n",
        "\n",
        "indexers = [\n",
        "    StringIndexer(\n",
        "        inputCol=col,\n",
        "        outputCol=col+'Idx',\n",
        "        handleInvalid='skip')\n",
        "    for col in categoricalCols\n",
        "]\n",
        "\n",
        "encoders = [\n",
        "    OneHotEncoder(\n",
        "        inputCol=col+'Idx',\n",
        "        outputCol=col+'Bin')\n",
        "    for col in categoricalCols\n",
        "]\n",
        "\n",
        "encCols = [col+'Bin' for col in categoricalCols]\n",
        "\n",
        "assembler = VectorAssembler(\n",
        "    inputCols=encCols + numCols,\n",
        "    outputCol=\"features\")\n",
        "\n",
        "cl = LogisticRegression(labelCol=\"survived\", maxIter=10, regParam=0.1)\n",
        "\n",
        "pl = Pipeline(stages=indexers + encoders + [assembler, cl])\n",
        "\n",
        "sdf_fna = sdf.fillna(0).replace('', 'NA')\n",
        "train_df, test_df = sdf_fna.randomSplit([0.7, 0.3])\n",
        "\n",
        "m = pl.fit(train_df)\n",
        "\n",
        "predictions = m.transform(test_df)\n",
        "\n",
        "evaluator = BinaryClassificationEvaluator(\n",
        "    labelCol=\"survived\",\n",
        "    rawPredictionCol=\"prediction\",\n",
        "    metricName=\"areaUnderROC\"\n",
        ")\n",
        "\n",
        "evaluator.evaluate(predictions)"
      ],
      "outputs": [
        {
          "output_type": "execute_result",
          "execution_count": 4,
          "data": {
            "text/plain": [
              "0.7967857958437999"
            ]
          },
          "metadata": {}
        }
      ],
      "execution_count": 4,
      "metadata": {}
    },
    {
      "cell_type": "markdown",
      "source": [
        "# Logistic regression feature importace for polynomial features"
      ],
      "metadata": {}
    },
    {
      "cell_type": "code",
      "source": [
        "import numpy as np\n",
        "import pandas as pd\n",
        "from pyspark.ml.classification import LogisticRegression\n",
        "from pyspark.ml.feature import VectorAssembler, StringIndexer, PolynomialExpansion\n",
        "from pyspark.ml.pipeline import Pipeline\n",
        "\n",
        "from pyspark.sql import SparkSession\n",
        "ss = SparkSession.builder.config('spark.driver.bindAddress', '127.0.0.1').getOrCreate()\n",
        "\n",
        "sdf = ss.read.csv('titanic.csv', header=True)\n",
        "\n",
        "# only 2-category features can be used without binarization\n",
        "categoricalCols =['sex'] #,'embarked', 'class', 'deck', 'who', 'embark_town']\n",
        "\n",
        "indexers = [\n",
        "    StringIndexer(inputCol=col, outputCol=col+'Idx', handleInvalid='skip')\n",
        "    for col in categoricalCols\n",
        "]\n",
        "\n",
        "idxCols = [col+'Idx' for col in categoricalCols]\n",
        "\n",
        "numCols = ['pclass', 'age', 'sibsp', 'parch', 'fare', 'alone']\n",
        "\n",
        "for col in numCols:\n",
        "    sdf = sdf.withColumn(col, sdf[col].astype('decimal'))\n",
        "    \n",
        "sdf = sdf.withColumn('survived', sdf['survived'].astype('int'))\n",
        "\n",
        "assembler = VectorAssembler(\n",
        "    inputCols=idxCols + numCols,\n",
        "    outputCol=\"features\")\n",
        "\n",
        "pe = PolynomialExpansion(degree=2, inputCol='features', outputCol='features_p')\n",
        "\n",
        "cl = LogisticRegression(featuresCol='features_p', labelCol=\"survived\", maxIter=10, regParam=0.1)\n",
        "\n",
        "pl = Pipeline(stages=indexers + [assembler, pe, cl])\n",
        "\n",
        "m = pl.fit(sdf.fillna(0).replace('', 'NA'))\n",
        "\n",
        "import pandas as pd\n",
        "\n",
        "fnames = idxCols + numCols\n",
        "pnames = [\n",
        "    n+'*'+n2\n",
        "    for i, n in zip(range(len(fnames)), fnames)\n",
        "    for n2 in (['1']+fnames)[:i+2]]\n",
        "\n",
        "weights = m.stages[-1].coefficients.array\n",
        "\n",
        "pd.DataFrame(\n",
        "    {'weights': weights, 'importance': np.abs(weights), 'names': pnames}\n",
        ").sort_values('importance', ascending=False)[:10]"
      ],
      "outputs": [
        {
          "output_type": "execute_result",
          "execution_count": 10,
          "data": {
            "text/html": [
              "<div>\n",
              "<table border=\"1\" class=\"dataframe\">\n",
              "  <thead>\n",
              "    <tr style=\"text-align: right;\">\n",
              "      <th></th>\n",
              "      <th>importance</th>\n",
              "      <th>names</th>\n",
              "      <th>weights</th>\n",
              "    </tr>\n",
              "  </thead>\n",
              "  <tbody>\n",
              "    <tr>\n",
              "      <th>0</th>\n",
              "      <td>0.746541</td>\n",
              "      <td>sexIdx*1</td>\n",
              "      <td>0.746541</td>\n",
              "    </tr>\n",
              "    <tr>\n",
              "      <th>1</th>\n",
              "      <td>0.746541</td>\n",
              "      <td>sexIdx*sexIdx</td>\n",
              "      <td>0.746541</td>\n",
              "    </tr>\n",
              "    <tr>\n",
              "      <th>2</th>\n",
              "      <td>0.190673</td>\n",
              "      <td>pclass*1</td>\n",
              "      <td>-0.190673</td>\n",
              "    </tr>\n",
              "    <tr>\n",
              "      <th>14</th>\n",
              "      <td>0.164902</td>\n",
              "      <td>parch*1</td>\n",
              "      <td>0.164902</td>\n",
              "    </tr>\n",
              "    <tr>\n",
              "      <th>3</th>\n",
              "      <td>0.109082</td>\n",
              "      <td>pclass*sexIdx</td>\n",
              "      <td>0.109082</td>\n",
              "    </tr>\n",
              "    <tr>\n",
              "      <th>15</th>\n",
              "      <td>0.080076</td>\n",
              "      <td>parch*sexIdx</td>\n",
              "      <td>-0.080076</td>\n",
              "    </tr>\n",
              "    <tr>\n",
              "      <th>10</th>\n",
              "      <td>0.075500</td>\n",
              "      <td>sibsp*sexIdx</td>\n",
              "      <td>-0.075500</td>\n",
              "    </tr>\n",
              "    <tr>\n",
              "      <th>4</th>\n",
              "      <td>0.067250</td>\n",
              "      <td>pclass*pclass</td>\n",
              "      <td>-0.067250</td>\n",
              "    </tr>\n",
              "    <tr>\n",
              "      <th>18</th>\n",
              "      <td>0.040980</td>\n",
              "      <td>parch*sibsp</td>\n",
              "      <td>-0.040980</td>\n",
              "    </tr>\n",
              "    <tr>\n",
              "      <th>11</th>\n",
              "      <td>0.031343</td>\n",
              "      <td>sibsp*pclass</td>\n",
              "      <td>-0.031343</td>\n",
              "    </tr>\n",
              "  </tbody>\n",
              "</table>\n",
              "</div>"
            ],
            "text/plain": [
              "    importance          names   weights\n",
              "0     0.746541       sexIdx*1  0.746541\n",
              "1     0.746541  sexIdx*sexIdx  0.746541\n",
              "2     0.190673       pclass*1 -0.190673\n",
              "14    0.164902        parch*1  0.164902\n",
              "3     0.109082  pclass*sexIdx  0.109082\n",
              "15    0.080076   parch*sexIdx -0.080076\n",
              "10    0.075500   sibsp*sexIdx -0.075500\n",
              "4     0.067250  pclass*pclass -0.067250\n",
              "18    0.040980    parch*sibsp -0.040980\n",
              "11    0.031343   sibsp*pclass -0.031343"
            ]
          },
          "metadata": {}
        }
      ],
      "execution_count": 10,
      "metadata": {
        "scrolled": true
      }
    },
    {
      "cell_type": "markdown",
      "source": [
        "# String Indexer output"
      ],
      "metadata": {}
    },
    {
      "cell_type": "code",
      "source": [
        "from pyspark.ml.feature import StringIndexer\n",
        "import numpy as np\n",
        "from pyspark.ml.linalg import Vectors\n",
        "\n",
        "from pyspark.sql import SparkSession\n",
        "ss = SparkSession.builder.getOrCreate()\n",
        "\n",
        "si = StringIndexer(inputCol='in', outputCol='out')\n",
        "\n",
        "rows = [\n",
        "    {'in': 'm'},\n",
        "    {'in': 'm'},\n",
        "    {'in': 'f'},\n",
        "    {'in': 'f'},\n",
        "    {'in': 'm'},\n",
        "]\n",
        "\n",
        "df = ss.createDataFrame(rows)\n",
        "\n",
        "si.fit(df).transform(df).toPandas()"
      ],
      "outputs": [
        {
          "output_type": "execute_result",
          "execution_count": 20,
          "data": {
            "text/html": [
              "<div>\n",
              "<table border=\"1\" class=\"dataframe\">\n",
              "  <thead>\n",
              "    <tr style=\"text-align: right;\">\n",
              "      <th></th>\n",
              "      <th>in</th>\n",
              "      <th>out</th>\n",
              "    </tr>\n",
              "  </thead>\n",
              "  <tbody>\n",
              "    <tr>\n",
              "      <th>0</th>\n",
              "      <td>m</td>\n",
              "      <td>0.0</td>\n",
              "    </tr>\n",
              "    <tr>\n",
              "      <th>1</th>\n",
              "      <td>m</td>\n",
              "      <td>0.0</td>\n",
              "    </tr>\n",
              "    <tr>\n",
              "      <th>2</th>\n",
              "      <td>f</td>\n",
              "      <td>1.0</td>\n",
              "    </tr>\n",
              "    <tr>\n",
              "      <th>3</th>\n",
              "      <td>f</td>\n",
              "      <td>1.0</td>\n",
              "    </tr>\n",
              "    <tr>\n",
              "      <th>4</th>\n",
              "      <td>m</td>\n",
              "      <td>0.0</td>\n",
              "    </tr>\n",
              "  </tbody>\n",
              "</table>\n",
              "</div>"
            ],
            "text/plain": [
              "  in  out\n",
              "0  m  0.0\n",
              "1  m  0.0\n",
              "2  f  1.0\n",
              "3  f  1.0\n",
              "4  m  0.0"
            ]
          },
          "metadata": {}
        }
      ],
      "execution_count": 20,
      "metadata": {}
    },
    {
      "cell_type": "markdown",
      "source": [
        "# Polynomial features order"
      ],
      "metadata": {}
    },
    {
      "cell_type": "code",
      "source": [
        "from pyspark.ml.feature import PolynomialExpansion\n",
        "import numpy as np\n",
        "from pyspark.ml.linalg import Vectors\n",
        "\n",
        "from pyspark.sql import SparkSession\n",
        "ss = SparkSession.builder.getOrCreate()\n",
        "\n",
        "pe = PolynomialExpansion(degree=2, inputCol='in', outputCol='out')\n",
        "\n",
        "rows = [\n",
        "    {'in': Vectors.dense([2, 10, 20])},\n",
        "]\n",
        "\n",
        "df = ss.createDataFrame(rows)\n",
        "\n",
        "pe.transform(df).collect()[0].out.toArray()"
      ],
      "outputs": [
        {
          "output_type": "execute_result",
          "execution_count": 23,
          "data": {
            "text/plain": [
              "array([   2.,    4.,   10.,   20.,  100.,   20.,   40.,  200.,  400.])"
            ]
          },
          "metadata": {}
        }
      ],
      "execution_count": 23,
      "metadata": {}
    },
    {
      "cell_type": "code",
      "source": [],
      "outputs": [],
      "execution_count": null,
      "metadata": {
        "collapsed": true
      }
    }
  ],
  "metadata": {
    "kernelspec": {
      "name": "python3",
      "language": "python",
      "display_name": "Python 3"
    },
    "language_info": {
      "name": "python",
      "version": "3.6.7",
      "mimetype": "text/x-python",
      "codemirror_mode": {
        "name": "ipython",
        "version": 3
      },
      "pygments_lexer": "ipython3",
      "nbconvert_exporter": "python",
      "file_extension": ".py"
    },
    "kernel_info": {
      "name": "python3"
    },
    "nteract": {
      "version": "0.14.5"
    }
  },
  "nbformat": 4,
  "nbformat_minor": 1
}